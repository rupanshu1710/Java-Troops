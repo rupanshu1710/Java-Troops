{
  "cells": [
    {
      "cell_type": "markdown",
      "metadata": {
        "id": "view-in-github",
        "colab_type": "text"
      },
      "source": [
        "<a href=\"https://colab.research.google.com/github/rupanshu1710/Java-Troops/blob/main/Classification_Model.ipynb\" target=\"_parent\"><img src=\"https://colab.research.google.com/assets/colab-badge.svg\" alt=\"Open In Colab\"/></a>"
      ]
    },
    {
      "cell_type": "code",
      "execution_count": 11,
      "metadata": {
        "colab": {
          "base_uri": "https://localhost:8080/"
        },
        "id": "LOm63Mp2ISoX",
        "outputId": "043edd09-d4e6-4bae-bfa2-b31b00df9047"
      },
      "outputs": [
        {
          "output_type": "stream",
          "name": "stdout",
          "text": [
            "Mounted at /content/drive\n"
          ]
        }
      ],
      "source": [
        "from google.colab import drive\n",
        "drive.mount('/content/drive')"
      ]
    },
    {
      "cell_type": "code",
      "execution_count": 12,
      "metadata": {
        "id": "RMMdxMEkIWns"
      },
      "outputs": [],
      "source": [
        "import numpy as np\n",
        "import matplotlib.pyplot as plt\n",
        "from keras.preprocessing.image import ImageDataGenerator\n",
        "from keras.models import Sequential\n",
        "from keras.layers import Conv2D, MaxPooling2D\n",
        "from keras.layers import BatchNormalization\n",
        "from keras.layers import Activation, Dropout, Flatten, Dense\n",
        "from keras import backend as K\n",
        "from keras.preprocessing import image"
      ]
    },
    {
      "cell_type": "code",
      "execution_count": 14,
      "metadata": {
        "colab": {
          "base_uri": "https://localhost:8080/"
        },
        "id": "Lgg5LrdPOMUy",
        "outputId": "609cfccc-3b55-4cbb-facd-9e5b060319c4"
      },
      "outputs": [
        {
          "output_type": "stream",
          "name": "stdout",
          "text": [
            "Found 6716 images belonging to 9 classes.\n",
            "Found 849 images belonging to 9 classes.\n"
          ]
        }
      ],
      "source": [
        "img_width, img_height = 224, 224\n",
        "\n",
        "train_data_dir = '/content/drive/MyDrive/new dataset/train'\n",
        "validation_data_dir = '/content/drive/MyDrive/new dataset/test'\n",
        "nb_train_samples = 8000\n",
        "nb_validation_samples = 1800\n",
        "epochs = 10\n",
        "batch_size = 32\n",
        "\n",
        "if K.image_data_format() == 'channels_first':\n",
        "    input_shape = (3, img_width, img_height)\n",
        "else:\n",
        "    input_shape = (img_width, img_height, 3)\n",
        "\n",
        "\n",
        "train_datagen = ImageDataGenerator(rescale=1. / 255)\n",
        "\n",
        "test_datagen = ImageDataGenerator(rescale=1. / 255)\n",
        "\n",
        "train_generator = train_datagen.flow_from_directory(\n",
        "    train_data_dir,\n",
        "    target_size=(img_width, img_height),\n",
        "    batch_size=batch_size,\n",
        "    class_mode='categorical')\n",
        "\n",
        "test_generator = test_datagen.flow_from_directory(\n",
        "    validation_data_dir,\n",
        "    target_size=(img_width, img_height),\n",
        "    batch_size=batch_size,\n",
        "    class_mode='categorical')"
      ]
    },
    {
      "cell_type": "code",
      "execution_count": 15,
      "metadata": {
        "id": "N2OiDB_CQpQz"
      },
      "outputs": [],
      "source": [
        "from numpy.random import seed\n",
        "seed(1)"
      ]
    },
    {
      "cell_type": "code",
      "execution_count": 16,
      "metadata": {
        "id": "xnRQLxDR5p9U"
      },
      "outputs": [],
      "source": [
        "import tensorflow\n",
        "tensorflow.random.set_seed(2)"
      ]
    },
    {
      "cell_type": "code",
      "execution_count": 17,
      "metadata": {
        "colab": {
          "base_uri": "https://localhost:8080/"
        },
        "id": "w6fj2kTn30ZO",
        "outputId": "7b5b07ec-16dc-427f-bf3b-bef343cf1f3a"
      },
      "outputs": [
        {
          "output_type": "stream",
          "name": "stderr",
          "text": [
            "\rCopying files: 0 files [01:04, ? files/s]\n"
          ]
        },
        {
          "output_type": "stream",
          "name": "stdout",
          "text": [
            "Downloading data from https://storage.googleapis.com/tensorflow/keras-applications/vgg19/vgg19_weights_tf_dim_ordering_tf_kernels_notop.h5\n",
            "80142336/80134624 [==============================] - 1s 0us/step\n",
            "80150528/80134624 [==============================] - 1s 0us/step\n"
          ]
        }
      ],
      "source": [
        "from tensorflow.keras.applications.vgg19 import VGG19\n",
        "\n",
        "base_model = VGG19(input_shape = (224, 224, 3), # Shape of our images\n",
        "include_top = False, # Leave out the last fully connected layer\n",
        "weights = 'imagenet')"
      ]
    },
    {
      "cell_type": "code",
      "execution_count": 18,
      "metadata": {
        "colab": {
          "base_uri": "https://localhost:8080/"
        },
        "id": "N6y7jSQT38Wk",
        "outputId": "8c69345b-318e-4462-9304-f55a8f4ac3d9"
      },
      "outputs": [
        {
          "output_type": "stream",
          "name": "stdout",
          "text": [
            "Model: \"model\"\n",
            "_________________________________________________________________\n",
            " Layer (type)                Output Shape              Param #   \n",
            "=================================================================\n",
            " input_1 (InputLayer)        [(None, 224, 224, 3)]     0         \n",
            "                                                                 \n",
            " block1_conv1 (Conv2D)       (None, 224, 224, 64)      1792      \n",
            "                                                                 \n",
            " block1_conv2 (Conv2D)       (None, 224, 224, 64)      36928     \n",
            "                                                                 \n",
            " block1_pool (MaxPooling2D)  (None, 112, 112, 64)      0         \n",
            "                                                                 \n",
            " block2_conv1 (Conv2D)       (None, 112, 112, 128)     73856     \n",
            "                                                                 \n",
            " block2_conv2 (Conv2D)       (None, 112, 112, 128)     147584    \n",
            "                                                                 \n",
            " block2_pool (MaxPooling2D)  (None, 56, 56, 128)       0         \n",
            "                                                                 \n",
            " block3_conv1 (Conv2D)       (None, 56, 56, 256)       295168    \n",
            "                                                                 \n",
            " block3_conv2 (Conv2D)       (None, 56, 56, 256)       590080    \n",
            "                                                                 \n",
            " block3_conv3 (Conv2D)       (None, 56, 56, 256)       590080    \n",
            "                                                                 \n",
            " block3_conv4 (Conv2D)       (None, 56, 56, 256)       590080    \n",
            "                                                                 \n",
            " block3_pool (MaxPooling2D)  (None, 28, 28, 256)       0         \n",
            "                                                                 \n",
            " block4_conv1 (Conv2D)       (None, 28, 28, 512)       1180160   \n",
            "                                                                 \n",
            " block4_conv2 (Conv2D)       (None, 28, 28, 512)       2359808   \n",
            "                                                                 \n",
            " block4_conv3 (Conv2D)       (None, 28, 28, 512)       2359808   \n",
            "                                                                 \n",
            " block4_conv4 (Conv2D)       (None, 28, 28, 512)       2359808   \n",
            "                                                                 \n",
            " block4_pool (MaxPooling2D)  (None, 14, 14, 512)       0         \n",
            "                                                                 \n",
            " block5_conv1 (Conv2D)       (None, 14, 14, 512)       2359808   \n",
            "                                                                 \n",
            " block5_conv2 (Conv2D)       (None, 14, 14, 512)       2359808   \n",
            "                                                                 \n",
            " block5_conv3 (Conv2D)       (None, 14, 14, 512)       2359808   \n",
            "                                                                 \n",
            " block5_conv4 (Conv2D)       (None, 14, 14, 512)       2359808   \n",
            "                                                                 \n",
            " block5_pool (MaxPooling2D)  (None, 7, 7, 512)         0         \n",
            "                                                                 \n",
            " flatten_1 (Flatten)         (None, 25088)             0         \n",
            "                                                                 \n",
            " dropout (Dropout)           (None, 25088)             0         \n",
            "                                                                 \n",
            " dense_1 (Dense)             (None, 9)                 225801    \n",
            "                                                                 \n",
            "=================================================================\n",
            "Total params: 20,250,185\n",
            "Trainable params: 20,250,185\n",
            "Non-trainable params: 0\n",
            "_________________________________________________________________\n"
          ]
        },
        {
          "output_type": "stream",
          "name": "stderr",
          "text": [
            "/usr/local/lib/python3.7/dist-packages/keras/optimizer_v2/rmsprop.py:130: UserWarning: The `lr` argument is deprecated, use `learning_rate` instead.\n",
            "  super(RMSprop, self).__init__(name, **kwargs)\n"
          ]
        }
      ],
      "source": [
        "from tensorflow.keras import layers\n",
        "from keras.models import load_model\n",
        "from keras.layers import Lambda\n",
        "import tensorflow as tf# Flatten the output layer to 1 dimension\n",
        "x = layers.Flatten()(base_model.output)\n",
        "\n",
        "# Add a fully connected layer with 512 hidden units and ReLU activation\n",
        "y = layers.Dense(224, activation='relu')(x)\n",
        "\n",
        "# Add a dropout rate of 0.5\n",
        "x = layers.Dropout(0.5)(x)\n",
        "\n",
        "# Add a final sigmoid layer for classification\n",
        "x = layers.Dense(9, activation='softmax')(x)\n",
        "\n",
        "model = tf.keras.models.Model(base_model.input, x)\n",
        "\n",
        "model.compile(optimizer = tf.keras.optimizers.RMSprop(lr=0.0001), loss = 'categorical_crossentropy',metrics = ['acc'])\n",
        "model.summary()\n",
        "for layer in base_model.layers:\n",
        "    layer.trainable = False"
      ]
    },
    {
      "cell_type": "code",
      "execution_count": 19,
      "metadata": {
        "colab": {
          "base_uri": "https://localhost:8080/"
        },
        "id": "FkHRIv0u4LAC",
        "outputId": "79c87ed3-f1bf-4a4f-9576-11978c17bb7d"
      },
      "outputs": [
        {
          "output_type": "stream",
          "name": "stdout",
          "text": [
            "Epoch 1/30\n",
            "100/100 [==============================] - 731s 7s/step - loss: 2.0023 - accuracy: 0.3861 - val_loss: 1.5480 - val_accuracy: 0.5336\n",
            "Epoch 2/30\n",
            "100/100 [==============================] - 306s 3s/step - loss: 1.2834 - accuracy: 0.5756 - val_loss: 1.5572 - val_accuracy: 0.5430\n",
            "Epoch 3/30\n",
            "100/100 [==============================] - 181s 2s/step - loss: 1.0719 - accuracy: 0.6461 - val_loss: 1.5020 - val_accuracy: 0.5536\n",
            "Epoch 4/30\n",
            "100/100 [==============================] - 116s 1s/step - loss: 1.0187 - accuracy: 0.6716 - val_loss: 1.5036 - val_accuracy: 0.5783\n",
            "Epoch 5/30\n",
            "100/100 [==============================] - 89s 887ms/step - loss: 0.8373 - accuracy: 0.7300 - val_loss: 1.3071 - val_accuracy: 0.6078\n",
            "Epoch 6/30\n",
            "100/100 [==============================] - 79s 787ms/step - loss: 0.7524 - accuracy: 0.7406 - val_loss: 1.2852 - val_accuracy: 0.6254\n",
            "Epoch 7/30\n",
            "100/100 [==============================] - 60s 601ms/step - loss: 0.6320 - accuracy: 0.7929 - val_loss: 1.3986 - val_accuracy: 0.5984\n",
            "Epoch 8/30\n",
            "100/100 [==============================] - 56s 563ms/step - loss: 0.5939 - accuracy: 0.7994 - val_loss: 1.3201 - val_accuracy: 0.6396\n",
            "Epoch 9/30\n",
            "100/100 [==============================] - 52s 519ms/step - loss: 0.5812 - accuracy: 0.8019 - val_loss: 1.1761 - val_accuracy: 0.6714\n",
            "Epoch 10/30\n",
            "100/100 [==============================] - 52s 516ms/step - loss: 0.5348 - accuracy: 0.8141 - val_loss: 1.4387 - val_accuracy: 0.5995\n",
            "Epoch 11/30\n",
            "100/100 [==============================] - 52s 520ms/step - loss: 0.4844 - accuracy: 0.8295 - val_loss: 1.4841 - val_accuracy: 0.6196\n",
            "Epoch 12/30\n",
            "100/100 [==============================] - 53s 530ms/step - loss: 0.4868 - accuracy: 0.8348 - val_loss: 1.2411 - val_accuracy: 0.6667\n",
            "Epoch 13/30\n",
            "100/100 [==============================] - 54s 534ms/step - loss: 0.4370 - accuracy: 0.8497 - val_loss: 1.5685 - val_accuracy: 0.5901\n",
            "Epoch 14/30\n",
            "100/100 [==============================] - 53s 528ms/step - loss: 0.4430 - accuracy: 0.8512 - val_loss: 1.3255 - val_accuracy: 0.6572\n",
            "Epoch 15/30\n",
            "100/100 [==============================] - 54s 538ms/step - loss: 0.3853 - accuracy: 0.8709 - val_loss: 1.3808 - val_accuracy: 0.6572\n",
            "Epoch 16/30\n",
            "100/100 [==============================] - 53s 530ms/step - loss: 0.3649 - accuracy: 0.8742 - val_loss: 1.2912 - val_accuracy: 0.6737\n",
            "Epoch 17/30\n",
            "100/100 [==============================] - 52s 521ms/step - loss: 0.3610 - accuracy: 0.8769 - val_loss: 1.4783 - val_accuracy: 0.6631\n",
            "Epoch 18/30\n",
            "100/100 [==============================] - 51s 513ms/step - loss: 0.3716 - accuracy: 0.8703 - val_loss: 1.5213 - val_accuracy: 0.6490\n",
            "Epoch 19/30\n",
            "100/100 [==============================] - 54s 535ms/step - loss: 0.3615 - accuracy: 0.8764 - val_loss: 1.4238 - val_accuracy: 0.6773\n",
            "Epoch 20/30\n",
            "100/100 [==============================] - 53s 528ms/step - loss: 0.3167 - accuracy: 0.8867 - val_loss: 1.3408 - val_accuracy: 0.6667\n",
            "Epoch 21/30\n",
            "100/100 [==============================] - 53s 527ms/step - loss: 0.3055 - accuracy: 0.8938 - val_loss: 1.3909 - val_accuracy: 0.6820\n",
            "Epoch 22/30\n",
            "100/100 [==============================] - 52s 521ms/step - loss: 0.3438 - accuracy: 0.8841 - val_loss: 1.5386 - val_accuracy: 0.6702\n",
            "Epoch 23/30\n",
            "100/100 [==============================] - 52s 522ms/step - loss: 0.3350 - accuracy: 0.8874 - val_loss: 1.6635 - val_accuracy: 0.6455\n",
            "Epoch 24/30\n",
            "100/100 [==============================] - 50s 501ms/step - loss: 0.3173 - accuracy: 0.8922 - val_loss: 1.5784 - val_accuracy: 0.6737\n",
            "Epoch 25/30\n",
            "100/100 [==============================] - 49s 491ms/step - loss: 0.3382 - accuracy: 0.8930 - val_loss: 1.5373 - val_accuracy: 0.6749\n",
            "Epoch 26/30\n",
            "100/100 [==============================] - 50s 497ms/step - loss: 0.2706 - accuracy: 0.9080 - val_loss: 1.4832 - val_accuracy: 0.6737\n",
            "Epoch 27/30\n",
            "100/100 [==============================] - 50s 494ms/step - loss: 0.2826 - accuracy: 0.8953 - val_loss: 1.6141 - val_accuracy: 0.6572\n",
            "Epoch 28/30\n",
            "100/100 [==============================] - 50s 497ms/step - loss: 0.2714 - accuracy: 0.9083 - val_loss: 1.5584 - val_accuracy: 0.6714\n",
            "Epoch 29/30\n",
            "100/100 [==============================] - 51s 506ms/step - loss: 0.2781 - accuracy: 0.9034 - val_loss: 1.5889 - val_accuracy: 0.6655\n",
            "Epoch 30/30\n",
            "100/100 [==============================] - 51s 512ms/step - loss: 0.3045 - accuracy: 0.8984 - val_loss: 1.7465 - val_accuracy: 0.6631\n"
          ]
        }
      ],
      "source": [
        "model.compile(optimizer=\"adam\", loss=\"categorical_crossentropy\", metrics =[\"accuracy\"])\n",
        "vgghist = model.fit(train_generator, validation_data = test_generator, steps_per_epoch = 100, epochs = 30)\n"
      ]
    },
    {
      "cell_type": "code",
      "execution_count": 21,
      "metadata": {
        "id": "vLiPf5A1QyqE"
      },
      "outputs": [],
      "source": [
        "from tensorflow.keras.preprocessing import image\n",
        "output_class = [\"batteries\", \"clothes\", \"e-waste\", \"glass\", \"light blubs\", \"metal\", \"organic\", \"paper\", \"plastic\"]\n",
        "def waste_prediction(new_image):\n",
        "  test_image = image.load_img(new_image, target_size = (224,224))\n",
        "  plt.axis(\"off\")\n",
        "  plt.imshow(test_image)\n",
        "  plt.show()\n",
        " \n",
        "  test_image = image.img_to_array(test_image) / 255\n",
        "  test_image = np.expand_dims(test_image, axis=0)\n",
        "\n",
        "  predicted_array = model.predict(test_image)\n",
        "  predicted_value = output_class[np.argmax(predicted_array)]\n",
        "  predicted_accuracy = round(np.max(predicted_array) * 100, 2)\n",
        "\n",
        "  print(\"Your waste material is \", predicted_value, \" with \", predicted_accuracy, \" % accuracy\")"
      ]
    },
    {
      "cell_type": "code",
      "execution_count": 23,
      "metadata": {
        "colab": {
          "base_uri": "https://localhost:8080/",
          "height": 281
        },
        "id": "QuIJMkQ2dw1s",
        "outputId": "90c5da34-c15f-48da-d483-bece1eecdc5b"
      },
      "outputs": [
        {
          "output_type": "display_data",
          "data": {
            "image/png": "[encoded data removed]",
            "text/plain": [
              "<Figure size 432x288 with 1 Axes>"
            ]
          },
          "metadata": {
            "needs_background": "light"
          }
        }
      ],
      "source": [
        "plt.title(\"Accuracy\")\n",
        "plt.plot(vgghist.history[\"accuracy\"])\n",
        "plt.show()"
      ]
    },
    {
      "cell_type": "code",
      "execution_count": 24,
      "metadata": {
        "colab": {
          "base_uri": "https://localhost:8080/",
          "height": 281
        },
        "id": "r9dG0XHXdxFh",
        "outputId": "9abd960f-0841-4c70-fe3c-f522e571297e"
      },
      "outputs": [
        {
          "output_type": "display_data",
          "data": {
            "image/png": "[encoded data removed]",
            "text/plain": [
              "<Figure size 432x288 with 1 Axes>"
            ]
          },
          "metadata": {
            "needs_background": "light"
          }
        }
      ],
      "source": [
        "\n",
        "\n",
        "plt.title(\"Loss\")\n",
        "plt.plot(vgghist.history[\"loss\"])\n",
        "plt.show()\n",
        "\n"
      ]
    },
    {
      "cell_type": "code",
      "source": [
        "import pickle\n",
        "pickle.dump(vgghist,open(\"dotslash.sav\", \"wb\"))"
      ],
      "metadata": {
        "colab": {
          "base_uri": "https://localhost:8080/"
        },
        "id": "mCKEuqFqeq5s",
        "outputId": "5b03fc7b-0f93-43fa-f510-a0ae0da2cf13"
      },
      "execution_count": 20,
      "outputs": [
        {
          "output_type": "stream",
          "name": "stdout",
          "text": [
            "INFO:tensorflow:Assets written to: ram://9367970d-6adf-4d00-98da-fa8a15a5dd84/assets\n"
          ]
        }
      ]
    },
    {
      "cell_type": "code",
      "execution_count": 25,
      "metadata": {
        "id": "IzQMwMbIdl74",
        "colab": {
          "base_uri": "https://localhost:8080/"
        },
        "outputId": "aaeed3cc-7e76-4098-e653-5555d9760255"
      },
      "outputs": [
        {
          "output_type": "stream",
          "name": "stdout",
          "text": [
            "WARNING:tensorflow:Compiled the loaded model, but the compiled metrics have yet to be built. `model.compile_metrics` will be empty until you train or evaluate the model.\n",
            "INFO:tensorflow:Assets written to: /content/drive/MyDrive/new dataset/model/assets\n"
          ]
        }
      ],
      "source": [
        "\n",
        "from tensorflow.keras import Model\n",
        "base_model.save_weights('\"/content/drive/MyDrive/new dataset/classifyWaste.h5\"')\n",
        "base_model.save('/content/drive/MyDrive/new dataset/model')\n",
        "\n",
        "\n"
      ]
    }
  ],
  "metadata": {
    "accelerator": "GPU",
    "colab": {
      "collapsed_sections": [],
      "name": "Copy of Copy of Classification_Model.ipynb",
      "provenance": [],
      "include_colab_link": true
    },
    "kernelspec": {
      "display_name": "Python 3",
      "name": "python3"
    },
    "language_info": {
      "name": "python"
    }
  },
  "nbformat": 4,
  "nbformat_minor": 0
}